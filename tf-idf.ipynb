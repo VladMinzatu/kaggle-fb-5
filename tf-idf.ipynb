{
 "cells": [
  {
   "cell_type": "code",
   "execution_count": 1,
   "metadata": {
    "collapsed": true
   },
   "outputs": [],
   "source": [
    "import numpy as np\n",
    "import pandas as pd\n",
    "import math"
   ]
  },
  {
   "cell_type": "markdown",
   "metadata": {},
   "source": [
    "#### Prepare labeled data (SKIP if already done)"
   ]
  },
  {
   "cell_type": "code",
   "execution_count": 1,
   "metadata": {
    "collapsed": true
   },
   "outputs": [],
   "source": [
    "from labeling import Labeler\n",
    "\n",
    "labeler = Labeler(12)"
   ]
  },
  {
   "cell_type": "code",
   "execution_count": 6,
   "metadata": {
    "collapsed": false
   },
   "outputs": [],
   "source": [
    "train_df = pd.read_csv('data/train.csv', index_col='row_id', dtype={\"place_id\": str})\n",
    "train_df[\"label\"] = train_df.apply(lambda r: labeler.get_label(r[\"x\"], r[\"y\"]), axis=1)\n",
    "train_df.to_csv(\"data/train-labeled-12.csv\", index=True)"
   ]
  },
  {
   "cell_type": "code",
   "execution_count": 7,
   "metadata": {
    "collapsed": true
   },
   "outputs": [],
   "source": [
    "test_df = pd.read_csv('data/test.csv', index_col='row_id')\n",
    "test_df[\"label\"] = test_df.apply(lambda r: labeler.get_label(r[\"x\"], r[\"y\"]), axis=1)\n",
    "test_df.to_csv(\"data/test-labeled-12.csv\", index=True)"
   ]
  },
  {
   "cell_type": "markdown",
   "metadata": {},
   "source": [
    "#### Load the training data"
   ]
  },
  {
   "cell_type": "code",
   "execution_count": 2,
   "metadata": {
    "collapsed": true
   },
   "outputs": [],
   "source": [
    "train_df = pd.read_csv('data/train-labeled-12.csv', index_col='row_id', dtype={\"place_id\": str})"
   ]
  },
  {
   "cell_type": "markdown",
   "metadata": {},
   "source": [
    "Introducing some helper methods"
   ]
  },
  {
   "cell_type": "code",
   "execution_count": 3,
   "metadata": {
    "collapsed": false
   },
   "outputs": [
    {
     "data": {
      "text/plain": [
       "['dddbdbaaa']"
      ]
     },
     "execution_count": 3,
     "metadata": {},
     "output_type": "execute_result"
    }
   ],
   "source": [
    "def extract_labels(label, min_label_size, max_label_size):\n",
    "    return [label[:x] for x in range(min_label_size, max_label_size + 1)]\n",
    "\n",
    "# Set these here to use throughout the script\n",
    "min_label_size = 9\n",
    "max_label_size = 9\n",
    "\n",
    "# Example\n",
    "extract_labels('dddbdbaaacab', min_label_size, max_label_size)"
   ]
  },
  {
   "cell_type": "code",
   "execution_count": 4,
   "metadata": {
    "collapsed": false
   },
   "outputs": [
    {
     "data": {
      "text/plain": [
       "{'a': 2, 'b': 2, 'c': 1, 'd': 1, 'e': 1}"
      ]
     },
     "execution_count": 4,
     "metadata": {},
     "output_type": "execute_result"
    }
   ],
   "source": [
    "def get_counts(items):\n",
    "    counts = {}\n",
    "    for i in items:\n",
    "        if i in counts:\n",
    "            counts[i] += 1\n",
    "        else:\n",
    "            counts[i] = 1\n",
    "    return counts\n",
    "\n",
    "# Example\n",
    "get_counts(['a', 'b', 'a', 'c', 'd', 'b', 'e'])"
   ]
  },
  {
   "cell_type": "markdown",
   "metadata": {},
   "source": [
    "#### Compute the TF-IDF score"
   ]
  },
  {
   "cell_type": "markdown",
   "metadata": {},
   "source": [
    "Build the mapping of places to all the labels associated to them based on the known check-ins in that place."
   ]
  },
  {
   "cell_type": "code",
   "execution_count": 5,
   "metadata": {
    "collapsed": false
   },
   "outputs": [],
   "source": [
    "places = {}\n",
    "train_df.apply(lambda r: places.setdefault(r[\"place_id\"],[]).extend(extract_labels(r[\"label\"], min_label_size, max_label_size)), axis=1)\n",
    "tf = {}\n",
    "idf = {}"
   ]
  },
  {
   "cell_type": "markdown",
   "metadata": {},
   "source": [
    "Build the TF dict, such that TF[label][place] is the frequency with which the label is associated to the place"
   ]
  },
  {
   "cell_type": "code",
   "execution_count": 6,
   "metadata": {
    "collapsed": false
   },
   "outputs": [],
   "source": [
    "for place in places:\n",
    "    all_labels = places[place]\n",
    "    counts = get_counts(all_labels)\n",
    "    total = sum(counts.values())\n",
    "    for label in counts:\n",
    "        tf.setdefault(label, {})[place] = counts[label]/total"
   ]
  },
  {
   "cell_type": "markdown",
   "metadata": {},
   "source": [
    "Build the IDF dict, such that IDF(label) is the log of the ratio of all documents to the number of documents containing the label"
   ]
  },
  {
   "cell_type": "code",
   "execution_count": 7,
   "metadata": {
    "collapsed": false
   },
   "outputs": [],
   "source": [
    "for label in tf:\n",
    "    all_places_this_label = tf[label]\n",
    "    idf[label] = math.log(len(places) / len(all_places_this_label))"
   ]
  },
  {
   "cell_type": "markdown",
   "metadata": {},
   "source": [
    "Computing the TF-IDF score"
   ]
  },
  {
   "cell_type": "code",
   "execution_count": 8,
   "metadata": {
    "collapsed": false
   },
   "outputs": [
    {
     "data": {
      "text/plain": [
       "[('9670606219', 1.281309073019124),\n",
       " ('5029991103', 0.08542060486794159),\n",
       " ('1879541472', 0.06593871252963912)]"
      ]
     },
     "execution_count": 8,
     "metadata": {},
     "output_type": "execute_result"
    }
   ],
   "source": [
    "def tf_idf(labels, tf, idf):\n",
    "    scored_places = []\n",
    "    for label in labels:\n",
    "        for place in tf.get(label, {}):\n",
    "            scored_places.append((place, tf[label][place]*idf[label]))\n",
    "    grouped_places = {}\n",
    "    for scored_place in scored_places:\n",
    "        place = scored_place[0]\n",
    "        score = scored_place[1]\n",
    "        if place in grouped_places:\n",
    "            grouped_places[place] += score\n",
    "        else:\n",
    "            grouped_places[place] = score\n",
    "    return sorted(grouped_places.items(), key=lambda x:-x[1])\n",
    "\n",
    "# Example from the data\n",
    "tf_idf(['dddbacabc', 'dddbdacdabca'], tf, idf)[:3]"
   ]
  },
  {
   "cell_type": "markdown",
   "metadata": {},
   "source": [
    "#### Make predictions for the test data"
   ]
  },
  {
   "cell_type": "code",
   "execution_count": 9,
   "metadata": {
    "collapsed": false
   },
   "outputs": [],
   "source": [
    "test_df = pd.read_csv('data/test-labeled-12.csv', index_col='row_id')"
   ]
  },
  {
   "cell_type": "markdown",
   "metadata": {},
   "source": [
    "Compute the top 3 predictions per check-in:"
   ]
  },
  {
   "cell_type": "code",
   "execution_count": 10,
   "metadata": {
    "collapsed": false
   },
   "outputs": [
    {
     "data": {
      "text/plain": [
       "'1579952623 3329484070 4624089426'"
      ]
     },
     "execution_count": 10,
     "metadata": {},
     "output_type": "execute_result"
    }
   ],
   "source": [
    "def get_top_3(label):\n",
    "    labels = extract_labels(label, min_label_size, max_label_size)\n",
    "    top3 = tf_idf(labels, tf, idf)[:3]\n",
    "    return ' '.join([x[0] for x in top3])\n",
    "    \n",
    "# Example\n",
    "get_top_3('bddccadadcaa')"
   ]
  },
  {
   "cell_type": "code",
   "execution_count": 11,
   "metadata": {
    "collapsed": false
   },
   "outputs": [],
   "source": [
    "test_df[\"place_id\"] = test_df.apply(lambda r: get_top_3(r[\"label\"]), axis=1)"
   ]
  },
  {
   "cell_type": "markdown",
   "metadata": {},
   "source": [
    "Make submission"
   ]
  },
  {
   "cell_type": "code",
   "execution_count": 12,
   "metadata": {
    "collapsed": true
   },
   "outputs": [],
   "source": [
    "!rm submission.csv\n",
    "test_df[[\"place_id\"]].to_csv(\"submission.csv\", index=True)"
   ]
  },
  {
   "cell_type": "code",
   "execution_count": null,
   "metadata": {
    "collapsed": true
   },
   "outputs": [],
   "source": []
  }
 ],
 "metadata": {
  "kernelspec": {
   "display_name": "Python 3",
   "language": "python",
   "name": "python3"
  },
  "language_info": {
   "codemirror_mode": {
    "name": "ipython",
    "version": 3
   },
   "file_extension": ".py",
   "mimetype": "text/x-python",
   "name": "python",
   "nbconvert_exporter": "python",
   "pygments_lexer": "ipython3",
   "version": "3.4.4"
  }
 },
 "nbformat": 4,
 "nbformat_minor": 0
}
